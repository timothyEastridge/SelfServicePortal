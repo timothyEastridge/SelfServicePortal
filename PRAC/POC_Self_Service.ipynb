{
 "cells": [
  {
   "cell_type": "code",
   "execution_count": 1,
   "metadata": {},
   "outputs": [],
   "source": [
    "import pandas as pd\n",
    "import random\n",
    "\n",
    "# List of example states and cities\n",
    "states = ['CA', 'WA', 'TX', 'NY', 'FL']\n",
    "cities = ['San Francisco', 'Seattle', 'Austin', 'New York', 'Miami']\n",
    "\n",
    "# Create empty dataframe\n",
    "df = pd.DataFrame(columns=['Leiden_Community', 'Community_Count_of_Individuals', 'Community_Stimulus_Amount',\n",
    "                           'Degree_and_Density', 'Confirmed_Fraud_Count', 'Suspicious_Fraud_Count',\n",
    "                           'SAR_Amount', 'Primary_State', 'Primary_City'])\n",
    "\n",
    "# Populate dataframe with random data\n",
    "for i in range(1, 201):\n",
    "    state_city = random.randint(0, 4)  # Randomly choose a state and city\n",
    "    df.loc[i] = [\n",
    "        str(i),  # Leiden Community\n",
    "        random.randint(5, 100),  # Community Count of Individuals\n",
    "        random.randint(1000000, 50000000),  # Community Stimulus Amount\n",
    "        round(random.uniform(1, 1000), 2),  # Degree and Density\n",
    "        random.randint(0, 10),  # Confirmed Fraud Count\n",
    "        random.randint(0, 20),  # Suspicious Fraud Count\n",
    "        random.randint(50000, 25000000),  # SAR Amount\n",
    "        states[state_city],  # Primary State\n",
    "        cities[state_city]  # Primary City\n",
    "    ]\n",
    "\n",
    "# Save dataframe to a CSV file\n",
    "df.to_csv('leiden_community_data.csv', index=False)\n"
   ]
  },
  {
   "cell_type": "code",
   "execution_count": null,
   "metadata": {},
   "outputs": [],
   "source": []
  }
 ],
 "metadata": {
  "kernelspec": {
   "display_name": "Python 3",
   "language": "python",
   "name": "python3"
  },
  "language_info": {
   "codemirror_mode": {
    "name": "ipython",
    "version": 3
   },
   "file_extension": ".py",
   "mimetype": "text/x-python",
   "name": "python",
   "nbconvert_exporter": "python",
   "pygments_lexer": "ipython3",
   "version": "3.8.5"
  }
 },
 "nbformat": 4,
 "nbformat_minor": 4
}
